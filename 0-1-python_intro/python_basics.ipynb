{
 "cells": [
  {
   "cell_type": "markdown",
   "metadata": {},
   "source": [
    "# Big Data & Data Science - Übung 1 - Python Grundlagen"
   ]
  },
  {
   "cell_type": "markdown",
   "metadata": {},
   "source": [
    "## Aufgabe 1:\n",
    "Implementiere eine Funktion, die zwei Zahlen miteinander multipliziert und das Ergebnis ausgibt."
   ]
  },
  {
   "cell_type": "code",
   "execution_count": null,
   "metadata": {},
   "outputs": [],
   "source": [
    "def mult(a,b):\n",
    "    # Code hier einfügen\n",
    "\n",
    "mult(3,2)"
   ]
  },
  {
   "cell_type": "markdown",
   "metadata": {},
   "source": [
    "## Aufgabe 2:\n",
    "Verknüpfe die drei Variablen a,b,c zu einer gemeinsamen Liste d=[7,12,3,4,7,1]."
   ]
  },
  {
   "cell_type": "code",
   "execution_count": null,
   "metadata": {},
   "outputs": [],
   "source": [
    "a = [7,12,3]\n",
    "b = 4\n",
    "c = [7, 1]\n"
   ]
  },
  {
   "cell_type": "markdown",
   "metadata": {},
   "source": [
    "## Aufgabe 3:\n",
    "Implementiere ein Skript, das zählt und ausgibt, wie oft die beiden Wörter 'Fisch' und 'frisch' in der Stringvariable \"text\" vorkommen."
   ]
  },
  {
   "cell_type": "code",
   "execution_count": null,
   "metadata": {},
   "outputs": [],
   "source": [
    "text='Fischers Fritze fischte frische Fische, frische Fische fischte Fischers Fritze.'\n"
   ]
  },
  {
   "cell_type": "markdown",
   "metadata": {},
   "source": [
    "## Aufgabe 4: \n",
    "Implementiere ein Skript, das auf Grundlage des Dictionaries 'plz' die Namen aller Personen ermittelt, die im Postleitzahlbereich 7xxxx wohnen."
   ]
  },
  {
   "cell_type": "code",
   "execution_count": null,
   "metadata": {},
   "outputs": [],
   "source": [
    "plz = {\"Peter\": '44137', \"Julia\": '09673', \"Werner\": '70176', 'Sabine':'73431', 'Martin': '57536'}"
   ]
  },
  {
   "cell_type": "markdown",
   "metadata": {},
   "source": [
    "## Aufgabe 5:\n",
    "Implementiere eine Funktion, die aus einer Liste die 5 größten Werte zurückgibt. Es sollte eine Fehlerbehandlung für Listen mit weniger als 5 Elementen vorhanden sein."
   ]
  },
  {
   "cell_type": "code",
   "execution_count": null,
   "metadata": {},
   "outputs": [],
   "source": [
    "x = [19,3,7,-5,8,-11,2,1,15,14,2,-4,3,-1,0]\n",
    "\n",
    "def top5(liste):\n",
    "    # Code hier einfügen\n",
    "\n",
    "top5(x)"
   ]
  },
  {
   "cell_type": "markdown",
   "metadata": {},
   "source": [
    "## Aufgabe 6: \n",
    "Implementiere eine Funktion, die eine Multiplikationsaufgabe mit 3 Faktoren (x * y * z) löst, ohne das Multiplikationszeichen * zu  verwenden.\n",
    "\n",
    "Man sollte für x, y und z beliebige positive ganze Zahlen einsetzten können."
   ]
  },
  {
   "cell_type": "code",
   "execution_count": null,
   "metadata": {},
   "outputs": [],
   "source": [
    "def multiply(x,y,z):\n",
    "    # Code hier einfügen\n",
    "multiply (2,3,2)"
   ]
  },
  {
   "cell_type": "code",
   "execution_count": null,
   "metadata": {},
   "outputs": [],
   "source": []
  }
 ],
 "metadata": {
  "kernelspec": {
   "display_name": "Python 3",
   "language": "python",
   "name": "python3"
  },
  "language_info": {
   "codemirror_mode": {
    "name": "ipython",
    "version": 3
   },
   "file_extension": ".py",
   "mimetype": "text/x-python",
   "name": "python",
   "nbconvert_exporter": "python",
   "pygments_lexer": "ipython3",
   "version": "3.6.9"
  }
 },
 "nbformat": 4,
 "nbformat_minor": 2
}