{
 "cells": [
  {
   "cell_type": "markdown",
   "metadata": {},
   "source": [
    "# Big Data & Data Science - Einführung in Python"
   ]
  },
  {
   "cell_type": "markdown",
   "metadata": {},
   "source": [
    "## 1. Stringverarbeitung"
   ]
  },
  {
   "cell_type": "code",
   "execution_count": null,
   "metadata": {},
   "outputs": [],
   "source": [
    "# Textausgabe\n",
    "print('Hello World')"
   ]
  },
  {
   "cell_type": "code",
   "execution_count": null,
   "metadata": {},
   "outputs": [],
   "source": [
    "# Ausgabe von Variablen (keine Typisierung notwendig)\n",
    "x = 'Hello'\n",
    "print(x,'World')"
   ]
  },
  {
   "cell_type": "code",
   "execution_count": null,
   "metadata": {},
   "outputs": [],
   "source": [
    "# Anzeigen des Datentyps einer Variablen\n",
    "a=5\n",
    "type(a)"
   ]
  },
  {
   "cell_type": "code",
   "execution_count": null,
   "metadata": {
    "scrolled": true
   },
   "outputs": [],
   "source": [
    "#Konvertierung float to string\n",
    "x = 3.5\n",
    "print('x = ', str(x))\n",
    "\n",
    "#Konvertierung string to float\n",
    "y='1.7'\n",
    "print('x = ', float(y) + 10)"
   ]
  },
  {
   "cell_type": "code",
   "execution_count": null,
   "metadata": {},
   "outputs": [],
   "source": [
    "#Textsequenzen\n",
    "x = 'Bla ' * 3 + '!'\n",
    "print(x)"
   ]
  },
  {
   "cell_type": "code",
   "execution_count": null,
   "metadata": {},
   "outputs": [],
   "source": [
    "# String Länge\n",
    "a = 'Heute ist ein schöner Tag!'\n",
    "len(a)"
   ]
  },
  {
   "cell_type": "code",
   "execution_count": null,
   "metadata": {},
   "outputs": [],
   "source": [
    "# in-Operator\n",
    "a = 'Heute ist ein schöner Tag!'\n",
    "if 'schöner' in a:\n",
    "    print(\"Toll!\")\n",
    "else:\n",
    "    print(\"Schade!\")"
   ]
  },
  {
   "cell_type": "code",
   "execution_count": null,
   "metadata": {},
   "outputs": [],
   "source": [
    "# String slicing (Teilstrings) - Strings verhalten sich wie ein char-Array\n",
    "a = 'Heute ist ein schöner Tag!'\n",
    "print(a[3])\n",
    "print(a[0:5])\n",
    "print(a[5:])\n",
    "print(a[5:13])\n",
    "print(a[-1])\n",
    "print(a[-4:])"
   ]
  },
  {
   "cell_type": "code",
   "execution_count": null,
   "metadata": {},
   "outputs": [],
   "source": [
    "# weitere Funktionen\n",
    "a = 'Heute ist ein schöner Tag!'\n",
    "\n",
    "# Anzahl Vorkommen in String ermitteln\n",
    "print('Anzahl e: ',a.count('e'))\n",
    "\n",
    "# Position des ersten Vorkommens in String ermitteln\n",
    "print('Index erstes e: ', a.find('e'))\n",
    "\n",
    "# Position des letzten Vorkommens in String ermitteln\n",
    "print('Index letztes e: ', a.rfind('e'))\n",
    "\n",
    "# Replace\n",
    "print('e ersetzt durch o: ', a.replace('e','o'))"
   ]
  },
  {
   "cell_type": "markdown",
   "metadata": {},
   "source": [
    "## 2. Vergleichsoperatoren"
   ]
  },
  {
   "cell_type": "markdown",
   "metadata": {},
   "source": [
    "\\> Größer als <br>\n",
    "< Kleiner als <br>\n",
    "\\>= Größer gleich <br>\n",
    "\\<= Kleiner gleich <br>\n",
    "\\== gleich <br>\n",
    "\\!= ungleich <br>"
   ]
  },
  {
   "cell_type": "code",
   "execution_count": null,
   "metadata": {},
   "outputs": [],
   "source": [
    "x = 12\n",
    "if x > 0:\n",
    "    print('positiv')\n",
    "elif(x < 0):\n",
    "    print('negative')\n",
    "else:\n",
    "    print('null')"
   ]
  },
  {
   "cell_type": "markdown",
   "metadata": {},
   "source": [
    "## 3. Logische Operatoren (and, or, not)"
   ]
  },
  {
   "cell_type": "code",
   "execution_count": null,
   "metadata": {},
   "outputs": [],
   "source": [
    "x = 1\n",
    "y = 3\n",
    "z = 8\n",
    "if x < y and not z < x:\n",
    "    print('x ist die kleinste Zahl')"
   ]
  },
  {
   "cell_type": "markdown",
   "metadata": {},
   "source": [
    "## 4. Listen\n",
    "* Liste kann Elemente unterschiedlichen Objekttyps beinhalten\n",
    "* Listen werden innerhalb von eckigen Klammern angegeben\n",
    "* Innerhalb der Klammern werden die einzelnen Elemente, durch Kommata getrennt, aufgelistet\n",
    "* Ein einzelnes Element kann durch Angabe eines Index ermittelt werden\n",
    "* Teilbereich einer Liste kann mithilfe eines Slice ermittelt werden\n",
    "* Länge einer Sequenz (Liste) kann mit der Funktion len() ermittelt werden\n",
    "* Elemente von Listen können wieder Listen sein"
   ]
  },
  {
   "cell_type": "code",
   "execution_count": null,
   "metadata": {},
   "outputs": [],
   "source": [
    "# Ausgabe von Listen\n",
    "x = [3, 8, -6, 2]\n",
    "print('Ganze Liste: ', x)\n",
    "print('Erstes Element: ', x[0])\n",
    "print('Slice: ', x[1:3])\n",
    "print('Länge: ', len(x))"
   ]
  },
  {
   "cell_type": "code",
   "execution_count": null,
   "metadata": {
    "scrolled": true
   },
   "outputs": [],
   "source": [
    "x = [3, 8, -6, 2]\n",
    "\n",
    "# Anhängen neuer Elemente\n",
    "x.append(5)\n",
    "print('5 angehängt:',x)\n",
    "\n",
    "# Einfügen neuer Elemente\n",
    "x.insert(2,7)\n",
    "print('7 eingefügt:',x)\n",
    "\n",
    "#Löschen eines elements\n",
    "x.remove(2)\n",
    "print('2 gelöscht:',x)\n",
    "\n",
    "#Umkehren der Liste\n",
    "x.reverse()\n",
    "print('umgekehrt:',x)\n",
    "\n",
    "#Sortieren der Liste\n",
    "x.sort()\n",
    "print('sortiert:',x)"
   ]
  },
  {
   "cell_type": "markdown",
   "metadata": {},
   "source": [
    "## 5. Dictionaries\n",
    "* können Elemente unterschiedlichen Objekttyps beinhalten\n",
    "* werden innerhalb von geschweifter Klammern angegeben\n",
    "* sind veränderliche Objekte\n",
    "* Bestehen aus mehreren Paaren (Key, Value)\n",
    "* Keys sind ungeordnet\n",
    "* Keys sind eindeutig\n",
    "* Value lässt sich mit zugehörigen Key abrufen"
   ]
  },
  {
   "cell_type": "code",
   "execution_count": null,
   "metadata": {},
   "outputs": [],
   "source": [
    "# Ausgabe\n",
    "alter = {\"Peter\": 31, \"Julia\": 28, \"Werner\": 35}\n",
    "print('Ganzes Dictionary: ', alter)\n",
    "print('Das Alter von Peter: ', alter[\"Peter\"])\n",
    "print('Anzahl Elemente: ', len(alter))"
   ]
  },
  {
   "cell_type": "code",
   "execution_count": null,
   "metadata": {},
   "outputs": [],
   "source": [
    "alter = {\"Peter\": 31, \"Julia\": 28, \"Werner\": 35}\n",
    "\n",
    "# Wert ersetzen\n",
    "alter['Julia']=29\n",
    "print(alter)\n",
    "\n",
    "# Element hinzufügen\n",
    "alter['Hans']=45\n",
    "print(alter)\n",
    "\n",
    "# Element löschen\n",
    "del alter['Werner']\n",
    "print(alter)\n",
    "\n",
    "# ELement enthalten\n",
    "if 'Julia' in alter:\n",
    "    print('Alter von Julia: ', alter['Julia'])"
   ]
  },
  {
   "cell_type": "markdown",
   "metadata": {},
   "source": [
    "## 6. Schleifen"
   ]
  },
  {
   "cell_type": "code",
   "execution_count": null,
   "metadata": {},
   "outputs": [],
   "source": [
    "# \"Klassische\" for-Schleife for(i=0;i<10;i=i+2)\n",
    "for i in range(0,10,2):\n",
    "    print(i)"
   ]
  },
  {
   "cell_type": "code",
   "execution_count": null,
   "metadata": {},
   "outputs": [],
   "source": [
    "# for über Liste (foreach)\n",
    "x = [7,0,1,3]\n",
    "for i in x:\n",
    "    print(i + 2)"
   ]
  },
  {
   "cell_type": "code",
   "execution_count": null,
   "metadata": {
    "scrolled": true
   },
   "outputs": [],
   "source": [
    "# List comprehensions\n",
    "x = [7,0,1,3]\n",
    "[print(i + 2) for i in x]"
   ]
  },
  {
   "cell_type": "code",
   "execution_count": null,
   "metadata": {},
   "outputs": [],
   "source": [
    "# for über Liste mit index und wert\n",
    "x = [7,0,1,3]\n",
    "for i, v in enumerate(x):\n",
    "    print('index:', i, 'value:', v)"
   ]
  },
  {
   "cell_type": "code",
   "execution_count": null,
   "metadata": {
    "scrolled": true
   },
   "outputs": [],
   "source": [
    "# for über Dictionary\n",
    "alter = {\"Peter\": 31, \"Julia\": 28, \"Werner\": 35}\n",
    "for key, value in alter.items():\n",
    "    print('key:', key, 'value:', value)"
   ]
  },
  {
   "cell_type": "code",
   "execution_count": null,
   "metadata": {},
   "outputs": [],
   "source": [
    "# while\n",
    "i=0\n",
    "while i<3:\n",
    "    print(i)\n",
    "    i+=1"
   ]
  },
  {
   "cell_type": "markdown",
   "metadata": {},
   "source": [
    "## 7. Ausnahmebehandlung"
   ]
  },
  {
   "cell_type": "code",
   "execution_count": null,
   "metadata": {},
   "outputs": [],
   "source": [
    "z = input()\n",
    "# Versuch einer Umwandlung\n",
    "try:\n",
    "    zahl = int(z)\n",
    "    print(\"Sie haben folgende Zahl eingegeben: \",z);\n",
    "    # Fehler bei Umwandlung\n",
    "except:\n",
    "    print(\"Sie haben die Zahl nicht richtig eingegeben\")"
   ]
  },
  {
   "cell_type": "markdown",
   "metadata": {},
   "source": [
    "## 8. Funktionen"
   ]
  },
  {
   "cell_type": "code",
   "execution_count": null,
   "metadata": {},
   "outputs": [],
   "source": [
    "#einfache Funktion mit zwei Parametern und Rückgabewert\n",
    "def addieren(a,b):\n",
    "    return a+b\n",
    "\n",
    "x=addieren(3,-5)\n",
    "print('Summe:',x)"
   ]
  },
  {
   "cell_type": "code",
   "execution_count": null,
   "metadata": {},
   "outputs": [],
   "source": [
    "#einfache Funktion mit zwei Parametern und zwei Rückgabewerten\n",
    "def add_sub(a,b):\n",
    "    summe=a+b\n",
    "    differenz=a-b\n",
    "    return summe, differenz\n",
    "\n",
    "x,y=add_sub(7,3)\n",
    "print('Summe:',x)\n",
    "print('Differenz:',y)"
   ]
  },
  {
   "cell_type": "code",
   "execution_count": null,
   "metadata": {},
   "outputs": [],
   "source": [
    "# Funktion ohne Rückgabewerte liefert 'None'\n",
    "def test(a):\n",
    "    print(a)\n",
    "b=test('Hello')\n",
    "print(b)"
   ]
  }
 ],
 "metadata": {
  "kernelspec": {
   "display_name": "Python 3",
   "language": "python",
   "name": "python3"
  },
  "language_info": {
   "codemirror_mode": {
    "name": "ipython",
    "version": 3
   },
   "file_extension": ".py",
   "mimetype": "text/x-python",
   "name": "python",
   "nbconvert_exporter": "python",
   "pygments_lexer": "ipython3",
   "version": "3.6.9"
  }
 },
 "nbformat": 4,
 "nbformat_minor": 2
}
